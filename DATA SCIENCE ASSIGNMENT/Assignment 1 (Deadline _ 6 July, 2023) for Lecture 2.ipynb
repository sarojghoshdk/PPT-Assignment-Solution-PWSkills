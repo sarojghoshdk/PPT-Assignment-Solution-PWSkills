{
 "cells": [
  {
   "cell_type": "markdown",
   "id": "f67e29f0-03bb-47ef-bee7-64c7f1f4908b",
   "metadata": {},
   "source": [
    "# 1. Write a Python program to reverse a string without using any built-in string reversal functions.\n"
   ]
  },
  {
   "cell_type": "code",
   "execution_count": 4,
   "id": "8ed253bd-c763-4924-b3d9-6421cba0aa53",
   "metadata": {},
   "outputs": [
    {
     "data": {
      "text/plain": [
       "'hsohG joraS'"
      ]
     },
     "execution_count": 4,
     "metadata": {},
     "output_type": "execute_result"
    }
   ],
   "source": [
    "def reverse(s):\n",
    "    reverse_string = \"\"\n",
    "    for i in s:\n",
    "        reverse_string = i + reverse_string\n",
    "    return reverse_string\n",
    "\n",
    "s = \"Saroj Ghosh\"\n",
    "reverse(s)"
   ]
  },
  {
   "cell_type": "markdown",
   "id": "9e6e4fba-8e6d-473e-b30a-f7414bf86260",
   "metadata": {},
   "source": [
    "# 2. Implement a function to check if a given string is a palindrome.\n"
   ]
  },
  {
   "cell_type": "code",
   "execution_count": 5,
   "id": "023145d1-5a08-491d-b63c-1d310b15c97c",
   "metadata": {},
   "outputs": [
    {
     "name": "stdout",
     "output_type": "stream",
     "text": [
      "True\n",
      "False\n"
     ]
    }
   ],
   "source": [
    "def ispalindrom(s):\n",
    "    if s == s[::-1]:\n",
    "        return True\n",
    "    return False\n",
    "\n",
    "s1 = \"aabbaa\"\n",
    "s2 = \"adbg\"\n",
    "\n",
    "print(ispalindrom(s1))\n",
    "print(ispalindrom(s2))"
   ]
  },
  {
   "cell_type": "markdown",
   "id": "21ee21d0-df62-4b33-a9d0-f8b853ebe4b0",
   "metadata": {},
   "source": [
    "# 3. Write a program to find the largest element in a given list."
   ]
  },
  {
   "cell_type": "code",
   "execution_count": 6,
   "id": "936f3631-0833-4496-b58d-5b32d76bfc49",
   "metadata": {},
   "outputs": [
    {
     "data": {
      "text/plain": [
       "99"
      ]
     },
     "execution_count": 6,
     "metadata": {},
     "output_type": "execute_result"
    }
   ],
   "source": [
    "def max_value(l):\n",
    "    max_val = l[0]\n",
    "    \n",
    "    for i in l:\n",
    "        if i > max_val:\n",
    "            max_val = i\n",
    "            \n",
    "    return max_val\n",
    "\n",
    "list1 = [10, 20, 34, 45, 99]\n",
    "max_value(list1)"
   ]
  },
  {
   "cell_type": "markdown",
   "id": "ad327cb8-ca5a-4511-91d6-f57d973fb203",
   "metadata": {},
   "source": [
    "# 4. Implement a function to count the occurrence of each element in a list.\n"
   ]
  },
  {
   "cell_type": "code",
   "execution_count": 12,
   "id": "02e3397e-a5bc-44d6-91c4-2a4fbd6377af",
   "metadata": {},
   "outputs": [
    {
     "data": {
      "text/plain": [
       "{10: 3, 20: 4, 30: 5, 40: 4, 60: 3, 70: 2, 80: 2, 50: 2, 90: 1}"
      ]
     },
     "execution_count": 12,
     "metadata": {},
     "output_type": "execute_result"
    }
   ],
   "source": [
    "def count_occurrences(input_list):\n",
    "    occurrence_count = {}\n",
    "\n",
    "    for element in input_list:\n",
    "        if element in occurrence_count:\n",
    "            occurrence_count[element] += 1\n",
    "        else:\n",
    "            occurrence_count[element] = 1\n",
    "\n",
    "    return occurrence_count\n",
    "\n",
    "list1 = [10,20,20,20,30,40,30,40,30,60,70,80,60,50,10,40,30,20,30,40,50,60,70,80,90,10]\n",
    "count_occurrences(list1)"
   ]
  },
  {
   "cell_type": "markdown",
   "id": "d319bc55-9ae2-46c6-99c6-7471abb1ec7e",
   "metadata": {},
   "source": [
    "# 5. Write a Python program to find the second largest number in a list.\n"
   ]
  },
  {
   "cell_type": "code",
   "execution_count": 19,
   "id": "8d87c71d-1ebb-458d-aa80-41c3135e7724",
   "metadata": {},
   "outputs": [
    {
     "name": "stdout",
     "output_type": "stream",
     "text": [
      "45\n"
     ]
    }
   ],
   "source": [
    "list1 = [10, 20, 20, 4, 45, 45, 45, 99, 99]\n",
    "\n",
    "list2 = list(set(list1))\n",
    "\n",
    "list2.sort()\n",
    "\n",
    "print(list2[-2])"
   ]
  },
  {
   "cell_type": "markdown",
   "id": "493bd863-557f-4178-811e-d92fe811efe6",
   "metadata": {},
   "source": [
    "# 6. Implement a function to remove duplicate elements from a list.\n"
   ]
  },
  {
   "cell_type": "code",
   "execution_count": 20,
   "id": "80aaedde-8396-4639-ab76-37750df18b98",
   "metadata": {},
   "outputs": [
    {
     "data": {
      "text/plain": [
       "[2, 4, 10, 20, 5]"
      ]
     },
     "execution_count": 20,
     "metadata": {},
     "output_type": "execute_result"
    }
   ],
   "source": [
    "def remove(duplicate):\n",
    "    final_list = []\n",
    "    for num in duplicate:\n",
    "        if num not in final_list:\n",
    "            final_list.append(num)\n",
    "    return final_list\n",
    "\n",
    "input_list = [2, 4, 10, 20, 5, 2, 20, 4]\n",
    "remove(input_list)"
   ]
  },
  {
   "cell_type": "markdown",
   "id": "ab98f1b5-6491-4856-943a-787e726d2694",
   "metadata": {},
   "source": [
    "# 7. Write a program to calculate the factorial of a given number.\n"
   ]
  },
  {
   "cell_type": "code",
   "execution_count": 21,
   "id": "9a24f100-3145-408a-9e36-c4751af2b482",
   "metadata": {},
   "outputs": [
    {
     "data": {
      "text/plain": [
       "120"
      ]
     },
     "execution_count": 21,
     "metadata": {},
     "output_type": "execute_result"
    }
   ],
   "source": [
    "def factorial(n):\n",
    "    fact = 1\n",
    "    for i in range(1,n+1):\n",
    "        fact = fact*i\n",
    "    return fact\n",
    "\n",
    "num = 5\n",
    "factorial(num)"
   ]
  },
  {
   "cell_type": "markdown",
   "id": "da406b77-1027-45d9-ad48-098d6e4875e7",
   "metadata": {},
   "source": [
    "# 8. Implement a function to check if a given number is prime.\n"
   ]
  },
  {
   "cell_type": "code",
   "execution_count": 24,
   "id": "a5e87aca-85a9-45c0-94bf-8e530839d794",
   "metadata": {},
   "outputs": [
    {
     "name": "stdout",
     "output_type": "stream",
     "text": [
      "True\n",
      "False\n"
     ]
    }
   ],
   "source": [
    "def check_prime(num):\n",
    "    if num > 1:\n",
    "        \n",
    "        for i in range(2 , int(num/2)+1):\n",
    "            if (num % i == 0):\n",
    "                return False\n",
    "            else:\n",
    "                return True\n",
    "            \n",
    "num1 = 11\n",
    "num2 = 12\n",
    "\n",
    "print(check_prime(num1))\n",
    "print(check_prime(num2))"
   ]
  },
  {
   "cell_type": "markdown",
   "id": "588b726a-1c37-47da-8d6d-ad5e2a2eb181",
   "metadata": {},
   "source": [
    "# 9. Write a Python program to sort a list of integers in ascending order.\n"
   ]
  },
  {
   "cell_type": "code",
   "execution_count": 26,
   "id": "22c2238a-4d5a-4ec2-b925-dbd8789c0b51",
   "metadata": {},
   "outputs": [
    {
     "data": {
      "text/plain": [
       "[1, 2, 3, 4, 10, 11, 20]"
      ]
     },
     "execution_count": 26,
     "metadata": {},
     "output_type": "execute_result"
    }
   ],
   "source": [
    "num = [10 , 11 , 20 ,1, 3, 4, 2]\n",
    "num.sort()\n",
    "num"
   ]
  },
  {
   "cell_type": "markdown",
   "id": "64b503f0-72f1-4f92-95fb-3b93088f6eea",
   "metadata": {},
   "source": [
    "# 10. Implement a function to find the sum of all numbers in a list.\n"
   ]
  },
  {
   "cell_type": "code",
   "execution_count": 1,
   "id": "77aeed57-ea1d-45b7-b577-94d5e586e276",
   "metadata": {},
   "outputs": [
    {
     "name": "stdout",
     "output_type": "stream",
     "text": [
      "55\n"
     ]
    }
   ],
   "source": [
    "def num_sum(nums):\n",
    "    sum=0\n",
    "    for i in nums:\n",
    "        sum = sum+i\n",
    "    return sum\n",
    "\n",
    "print(num_sum([1,2,3,4,5,6,7,8,9,10]))"
   ]
  },
  {
   "cell_type": "markdown",
   "id": "0849c4c7-2c96-4bd4-88d0-4cf811ec6e4d",
   "metadata": {},
   "source": [
    "# 11. Write a program to find the common elements between two lists.\n"
   ]
  },
  {
   "cell_type": "code",
   "execution_count": 12,
   "id": "27ed7a89-214e-4a0b-8e3b-ee886ceb5289",
   "metadata": {},
   "outputs": [
    {
     "name": "stdout",
     "output_type": "stream",
     "text": [
      "[2, 5, 6, 7, 8, 9]\n"
     ]
    }
   ],
   "source": [
    "def find_common(list1,list2):\n",
    "    common_elements = []\n",
    "    \n",
    "    for element in list1:\n",
    "        if element in list2:\n",
    "            common_elements.append(element)\n",
    "    \n",
    "    return common_elements\n",
    "\n",
    "l1=[1,2,3,4,5,6,7,8,9]\n",
    "l2=[6,7,8,9,10,2,11,5]\n",
    "print(find_common(l1,l2))"
   ]
  },
  {
   "cell_type": "markdown",
   "id": "14426a4e-a8d7-4a7f-a4b2-e0dc6c7660b7",
   "metadata": {},
   "source": [
    "# 12. Implement a function to check if a given string is an anagram of another string.\n"
   ]
  },
  {
   "cell_type": "code",
   "execution_count": 3,
   "id": "c63bfebd-9712-46b1-9c3f-7892f4c64b34",
   "metadata": {},
   "outputs": [
    {
     "name": "stdout",
     "output_type": "stream",
     "text": [
      "True\n",
      "False\n"
     ]
    }
   ],
   "source": [
    "# An anagram of a string is another string that contains the same characters, only the order of characters can be different. \n",
    "# For example, “abcd” and “dabc” are an anagram of each other.\n",
    "\n",
    "def is_anagram(string1, string2):\n",
    "    # Convert strings to lowercase and remove whitespace\n",
    "    string1 = string1.lower().replace(\" \", \"\")\n",
    "    string2 = string2.lower().replace(\" \", \"\")\n",
    "    \n",
    "    # Check if the sorted strings are equal\n",
    "    return sorted(string1) == sorted(string2)\n",
    "\n",
    "print(is_anagram(\"abcd\",\"dabc\"))\n",
    "print(is_anagram(\"ramch\",\"padgh\"))"
   ]
  },
  {
   "cell_type": "markdown",
   "id": "48fac5ec-0d9c-4630-b627-f20f996091de",
   "metadata": {},
   "source": [
    "# 13. Write a Python program to generate all permutations of a given string.\n"
   ]
  },
  {
   "cell_type": "code",
   "execution_count": 5,
   "id": "793101b5-819d-440a-ab6f-a4fc76e474b2",
   "metadata": {},
   "outputs": [
    {
     "data": {
      "text/plain": [
       "['ABC', 'ACB', 'BAC', 'BCA', 'CAB', 'CBA']"
      ]
     },
     "execution_count": 5,
     "metadata": {},
     "output_type": "execute_result"
    }
   ],
   "source": [
    "def permute_string(string):\n",
    "    \n",
    "    # Base case: If the string is empty, return an empty list\n",
    "    if len(string) == 0:\n",
    "        return []\n",
    "\n",
    "    # Base case: If the string has only one character, return the string itself as a single permutation\n",
    "    if len(string) == 1:\n",
    "        return [string]\n",
    "\n",
    "    permutations = []  # List to store the permutations\n",
    "\n",
    "    for i in range(len(string)):\n",
    "        # Extract the current character\n",
    "        current_char = string[i]\n",
    "\n",
    "        # Generate all permutations of the remaining characters\n",
    "        remaining_chars = string[:i] + string[i+1:]\n",
    "        sub_permutations = permute_string(remaining_chars)\n",
    "\n",
    "        # Add the current character to each permutation of the remaining characters\n",
    "        for sub_permutation in sub_permutations:\n",
    "            permutations.append(current_char + sub_permutation)\n",
    "\n",
    "    return permutations\n",
    "\n",
    "permute_string(\"ABC\")"
   ]
  },
  {
   "cell_type": "markdown",
   "id": "c214c1c6-a927-4f79-bd93-a9b5dcdf862d",
   "metadata": {},
   "source": [
    "# 14. Implement a function to calculate the Fibonacci sequence up to a given number of terms.\n"
   ]
  },
  {
   "cell_type": "code",
   "execution_count": 6,
   "id": "295fcf75-d013-435f-8bcf-8aa917ed158c",
   "metadata": {},
   "outputs": [
    {
     "data": {
      "text/plain": [
       "[0, 1, 1, 2, 3, 5, 8, 13, 21, 34]"
      ]
     },
     "execution_count": 6,
     "metadata": {},
     "output_type": "execute_result"
    }
   ],
   "source": [
    "def fibonacci(n):\n",
    "    sequence = []\n",
    "\n",
    "    if n >= 1:\n",
    "        sequence.append(0)\n",
    "    if n >= 2:\n",
    "        sequence.append(1)\n",
    "\n",
    "    for i in range(2, n):\n",
    "        next_number = sequence[i - 1] + sequence[i - 2]\n",
    "        sequence.append(next_number)\n",
    "\n",
    "    return sequence\n",
    "\n",
    "fibonacci(10)"
   ]
  },
  {
   "cell_type": "markdown",
   "id": "8383ebab-45fa-458d-bbf7-21c94fe214a4",
   "metadata": {},
   "source": [
    "# 15. Write a program to find the median of a list of numbers.\n"
   ]
  },
  {
   "cell_type": "code",
   "execution_count": 7,
   "id": "3d107d8a-2aa3-4943-b5a7-77872ba81c24",
   "metadata": {},
   "outputs": [
    {
     "name": "stdout",
     "output_type": "stream",
     "text": [
      "4\n",
      "3.5\n"
     ]
    }
   ],
   "source": [
    "def find_median(numbers):\n",
    "    sorted_numbers = sorted(numbers)\n",
    "    n = len(sorted_numbers)\n",
    "    mid = n // 2\n",
    "\n",
    "    if n % 2 == 0:\n",
    "        # If the number of elements is even, take the average of the two middle numbers\n",
    "        median = (sorted_numbers[mid - 1] + sorted_numbers[mid]) / 2\n",
    "    else:\n",
    "        # If the number of elements is odd, take the middle number\n",
    "        median = sorted_numbers[mid]\n",
    "\n",
    "    return median\n",
    "\n",
    "print(find_median([1,2,3,4,5,6,7]))  # odd numbers\n",
    "print(find_median([1,2,3,4,5,6]))    # even numbers"
   ]
  },
  {
   "cell_type": "markdown",
   "id": "f7aa7b26-2a8d-4707-b12b-51745d435153",
   "metadata": {},
   "source": [
    "# 16. Implement a function to check if a given list is sorted in non-decreasing order.\n"
   ]
  },
  {
   "cell_type": "code",
   "execution_count": 8,
   "id": "e3a26d41-c703-4996-9c5f-4e78d2e31085",
   "metadata": {},
   "outputs": [
    {
     "name": "stdout",
     "output_type": "stream",
     "text": [
      "False\n",
      "True\n"
     ]
    }
   ],
   "source": [
    "def check_sorted(nums):\n",
    "    n = len(nums)\n",
    "\n",
    "    for i in range(1, n):\n",
    "        if nums[i] < nums[i - 1]:\n",
    "            return False\n",
    "\n",
    "    return True\n",
    "    \n",
    "print(check_sorted([11,13,12,14,15,16,17,18]))    \n",
    "print(check_sorted([11,12,13,14,15,16,17,18]))"
   ]
  },
  {
   "cell_type": "markdown",
   "id": "428a9240-aafe-4f04-88bb-81623407e9a6",
   "metadata": {},
   "source": [
    "# 17. Write a Python program to find the intersection of two lists.\n"
   ]
  },
  {
   "cell_type": "code",
   "execution_count": 10,
   "id": "e84ba2bd-e664-4289-b5ee-bb970c6565ac",
   "metadata": {},
   "outputs": [
    {
     "name": "stdout",
     "output_type": "stream",
     "text": [
      "[4, 5]\n"
     ]
    }
   ],
   "source": [
    "def find_intersection(list1, list2):\n",
    "    intersection = []\n",
    "\n",
    "    for element in list1:\n",
    "        if element in list2:\n",
    "            intersection.append(element)\n",
    "\n",
    "    return intersection\n",
    "\n",
    "l1 = [1, 2, 3, 4, 5]\n",
    "l2 = [4, 5, 6, 7, 8]\n",
    "print(find_intersection(l1,l2))"
   ]
  },
  {
   "cell_type": "markdown",
   "id": "4bf7d7a8-2f90-4297-ba6c-f395bf787902",
   "metadata": {},
   "source": [
    "# 18. Implement a function to find the maximum subarray sum in a given list."
   ]
  },
  {
   "cell_type": "code",
   "execution_count": 14,
   "id": "9136ae9a-fa88-4ced-a38e-7234986e969c",
   "metadata": {},
   "outputs": [
    {
     "name": "stdout",
     "output_type": "stream",
     "text": [
      "15\n"
     ]
    }
   ],
   "source": [
    "#Using Kadane's Algorithm\n",
    "def max_subarray(nums):\n",
    "    sum=0\n",
    "    max = float('-inf')\n",
    "    for i in nums:\n",
    "        sum = sum + i\n",
    "        \n",
    "        if sum > max:\n",
    "            max = sum\n",
    "        else:\n",
    "            sum=0\n",
    "    return max\n",
    "\n",
    "print(max_subarray([-1,-2,-3,1,2,3,4,5]))"
   ]
  },
  {
   "cell_type": "markdown",
   "id": "f60292d1-42f0-4369-9122-a322fd1def1c",
   "metadata": {},
   "source": [
    "# 19. Write a program to remove all vowels from a given string.\n"
   ]
  },
  {
   "cell_type": "code",
   "execution_count": 15,
   "id": "e9773c68-a9ea-4ac1-be31-8e23963de804",
   "metadata": {},
   "outputs": [
    {
     "data": {
      "text/plain": [
       "'Srj Ghsh'"
      ]
     },
     "execution_count": 15,
     "metadata": {},
     "output_type": "execute_result"
    }
   ],
   "source": [
    "def remove_vowels(str):\n",
    "    res = \"\"\n",
    "    vowels = \"aeiouAEIOU\"\n",
    "    \n",
    "    for ch in str:\n",
    "        if ch not in vowels:\n",
    "            res = res + ch\n",
    "    return res\n",
    "\n",
    "remove_vowels(\"Saroj Ghosh\")"
   ]
  },
  {
   "cell_type": "markdown",
   "id": "521ffed1-6e96-4a09-89e1-053ace4af5f5",
   "metadata": {},
   "source": [
    "# 20. Implement a function to reverse the order of words in a given sentence.\n"
   ]
  },
  {
   "cell_type": "code",
   "execution_count": 16,
   "id": "4aa8b8f3-60fc-41b2-9236-0d1d7a41c122",
   "metadata": {},
   "outputs": [
    {
     "data": {
      "text/plain": [
       "'Boy Good very a is Saroj'"
      ]
     },
     "execution_count": 16,
     "metadata": {},
     "output_type": "execute_result"
    }
   ],
   "source": [
    "def reverse_words(sentence):\n",
    "    words = sentence.split()\n",
    "    reversed_words = \" \".join(words[::-1])\n",
    "    return reversed_words\n",
    "\n",
    "reverse_words(\"Saroj is a very Good Boy\")"
   ]
  },
  {
   "cell_type": "markdown",
   "id": "14225739-2f67-4706-8fdd-98ee156abd93",
   "metadata": {},
   "source": [
    "# 21. Write a Python program to check if two strings are anagrams of each other.\n"
   ]
  },
  {
   "cell_type": "code",
   "execution_count": 17,
   "id": "e60bb826-a123-4591-b67c-e2b843d5dfec",
   "metadata": {},
   "outputs": [
    {
     "name": "stdout",
     "output_type": "stream",
     "text": [
      "True\n",
      "False\n"
     ]
    }
   ],
   "source": [
    "# An anagram of a string is another string that contains the same characters, only the order of characters can be different. \n",
    "# For example, “abcd” and “dabc” are an anagram of each other.\n",
    "\n",
    "def is_anagram(string1, string2):\n",
    "    # Convert strings to lowercase and remove whitespace\n",
    "    string1 = string1.lower().replace(\" \", \"\")\n",
    "    string2 = string2.lower().replace(\" \", \"\")\n",
    "    \n",
    "    # Check if the sorted strings are equal\n",
    "    return sorted(string1) == sorted(string2)\n",
    "\n",
    "print(is_anagram(\"abcd\",\"dabc\"))\n",
    "print(is_anagram(\"ramch\",\"padgh\"))"
   ]
  },
  {
   "cell_type": "markdown",
   "id": "90203e5b-0367-437f-b345-aa38dab2028f",
   "metadata": {},
   "source": [
    "# 22. Implement a function to find the first non-repeating character in a string.\n"
   ]
  },
  {
   "cell_type": "code",
   "execution_count": 1,
   "id": "f9bf553c-9150-4431-99d3-b6b7b4fb9bb5",
   "metadata": {},
   "outputs": [
    {
     "name": "stdout",
     "output_type": "stream",
     "text": [
      "First non-repeating character is a\n"
     ]
    }
   ],
   "source": [
    "from collections import Counter\n",
    " \n",
    "\n",
    "def printNonrepeated(string):\n",
    " \n",
    "    # Calculating frequencies\n",
    "    # using Counter function\n",
    "    freq = Counter(string)\n",
    "    \n",
    "    for i in string:\n",
    "        if(freq[i] == 1):\n",
    "            print(\"First non-repeating character is \" + i)\n",
    "            break\n",
    " \n",
    " \n",
    "string = \"sars\"\n",
    " \n",
    "printNonrepeated(string)"
   ]
  },
  {
   "cell_type": "markdown",
   "id": "ac22dd05-103c-4da1-b31b-7c0d8ffa2bca",
   "metadata": {},
   "source": [
    "## 23. Write a program to find the prime factors of a given number.\n"
   ]
  },
  {
   "cell_type": "code",
   "execution_count": 2,
   "id": "c6724915-0bd0-422a-9ccd-e988533ece0d",
   "metadata": {},
   "outputs": [
    {
     "data": {
      "text/plain": [
       "[2, 5]"
      ]
     },
     "execution_count": 2,
     "metadata": {},
     "output_type": "execute_result"
    }
   ],
   "source": [
    "def prime_factors(n):\n",
    "    factors = []\n",
    "    div = 2\n",
    "    \n",
    "    for i in range(2,n):\n",
    "        if n%div == 0:\n",
    "            factors.append(div)\n",
    "            while n % div == 0:\n",
    "                n = n/div\n",
    "        else:\n",
    "            div = div+1\n",
    "    return factors\n",
    "\n",
    "prime_factors(20)"
   ]
  },
  {
   "cell_type": "markdown",
   "id": "fc586aef-d194-4625-84ca-f263a218d84a",
   "metadata": {},
   "source": [
    "## 24. Implement a function to check if a given number is a power of two.\n"
   ]
  },
  {
   "cell_type": "code",
   "execution_count": 6,
   "id": "3ee62358-9692-4912-a6a6-dd3cf8ab5122",
   "metadata": {},
   "outputs": [
    {
     "name": "stdout",
     "output_type": "stream",
     "text": [
      "False\n",
      "True\n"
     ]
    }
   ],
   "source": [
    "def is_power_of_two(n):\n",
    "    if n <= 0:\n",
    "        return False\n",
    "\n",
    "    while n > 1:\n",
    "        if n % 2 != 0:\n",
    "            return False\n",
    "        n = n/ 2\n",
    "\n",
    "    return True\n",
    "\n",
    "print(is_power_of_two(31))\n",
    "print(is_power_of_two(4))"
   ]
  },
  {
   "cell_type": "markdown",
   "id": "e45e52a1-4a8b-4351-96e3-85e4b7095bf6",
   "metadata": {},
   "source": [
    "## 25. Write a Python program to merge two sorted lists into a single sorted list.\n"
   ]
  },
  {
   "cell_type": "code",
   "execution_count": 7,
   "id": "a7719cbb-52ae-4315-a317-baa80b7886c7",
   "metadata": {},
   "outputs": [
    {
     "data": {
      "text/plain": [
       "[1, 3, 4, 5, 6, 7, 8, 9, 10, 11]"
      ]
     },
     "execution_count": 7,
     "metadata": {},
     "output_type": "execute_result"
    }
   ],
   "source": [
    "list1 = [1, 5, 6, 9, 11]\n",
    "list2 = [3, 4, 7, 8, 10]\n",
    "\n",
    "result = sorted(list1 + list2)\n",
    "\n",
    "result"
   ]
  },
  {
   "cell_type": "markdown",
   "id": "cbdf9399-cedd-4695-bb18-ceebf9023c8c",
   "metadata": {},
   "source": [
    "## 26. Implement a function to find the mode of a list of numbers.\n"
   ]
  },
  {
   "cell_type": "code",
   "execution_count": 8,
   "id": "4825dcda-a8fd-4e36-b194-ae8651379bea",
   "metadata": {},
   "outputs": [
    {
     "name": "stdout",
     "output_type": "stream",
     "text": [
      "[2]\n"
     ]
    }
   ],
   "source": [
    "def find_mode(numbers):\n",
    "    mode = []\n",
    "    count_dict = {}\n",
    "\n",
    "    # Count the occurrences of each number\n",
    "    for num in numbers:\n",
    "        if num in count_dict:\n",
    "            count_dict[num] += 1\n",
    "        else:\n",
    "            count_dict[num] = 1\n",
    "\n",
    "    # Find the maximum count\n",
    "    max_count = max(count_dict.values())\n",
    "\n",
    "    # Find the numbers with the maximum count\n",
    "    for num, count in count_dict.items():\n",
    "        if count == max_count:\n",
    "            mode.append(num)\n",
    "\n",
    "    return mode\n",
    "\n",
    "print(find_mode([1,2,2,2,3]))"
   ]
  },
  {
   "cell_type": "markdown",
   "id": "d21bc366-0615-456f-80a0-66d6d9280aa2",
   "metadata": {},
   "source": [
    "## 27. Write a program to find the greatest common divisor (GCD) of two numbers.\n"
   ]
  },
  {
   "cell_type": "code",
   "execution_count": 12,
   "id": "ca21b1a6-988f-4bb3-8dfe-46fcf0c7eb6b",
   "metadata": {},
   "outputs": [
    {
     "data": {
      "text/plain": [
       "2"
      ]
     },
     "execution_count": 12,
     "metadata": {},
     "output_type": "execute_result"
    }
   ],
   "source": [
    "def greatest_common_divisor(a, b):\n",
    "    while b != 0:\n",
    "        temp = b\n",
    "        b = a % b\n",
    "        a = temp\n",
    "    return a\n",
    "\n",
    "greatest_common_divisor(50,28)"
   ]
  },
  {
   "cell_type": "markdown",
   "id": "7e5543ed-64c1-4aae-a72e-03dc686a122b",
   "metadata": {},
   "source": [
    "## 28. Implement a function to calculate the square root of a given number.\n"
   ]
  },
  {
   "cell_type": "code",
   "execution_count": 18,
   "id": "bf6d3c36-0930-47de-94d6-2d9255067daf",
   "metadata": {},
   "outputs": [
    {
     "data": {
      "text/plain": [
       "4"
      ]
     },
     "execution_count": 18,
     "metadata": {},
     "output_type": "execute_result"
    }
   ],
   "source": [
    "def square_root(x):\n",
    "    sqrt = x**0.5\n",
    "    result = int(sqrt)\n",
    "    return result\n",
    " \n",
    "x = 16\n",
    "square_root(x)"
   ]
  },
  {
   "cell_type": "markdown",
   "id": "b69ad7fb-b916-4efc-a0cb-592a24dd922b",
   "metadata": {},
   "source": [
    "## 29. Write a Python program to check if a given string is a valid palindrome ignoring non-alphanumeric characters.\n"
   ]
  },
  {
   "cell_type": "code",
   "execution_count": 20,
   "id": "1d1f462d-884a-4bfd-ab98-37617d235ed9",
   "metadata": {},
   "outputs": [
    {
     "name": "stdout",
     "output_type": "stream",
     "text": [
      "True\n",
      "False\n",
      "True\n"
     ]
    }
   ],
   "source": [
    "def palindrome(s):\n",
    "    # Remove non-alphanumeric characters and convert to lowercase\n",
    "    cleaned_s = ''.join(c.lower() for c in s if c.isalnum())\n",
    "\n",
    "    # Check if the cleaned string is a palindrome\n",
    "    return cleaned_s == cleaned_s[::-1]\n",
    "\n",
    "print(palindrome(\"aa@aa\"))\n",
    "print(palindrome(\"sa!!roj\"))\n",
    "print(palindrome(\"Z..o..z\"))"
   ]
  },
  {
   "cell_type": "markdown",
   "id": "85092dc9-c35b-4d61-acf7-7c2a82844388",
   "metadata": {},
   "source": [
    "## 30. Implement a function to find the minimum element in a rotated sorted list.\n"
   ]
  },
  {
   "cell_type": "code",
   "execution_count": 22,
   "id": "df090591-9802-4e2d-94db-711a106a1db7",
   "metadata": {},
   "outputs": [
    {
     "name": "stdout",
     "output_type": "stream",
     "text": [
      "2\n"
     ]
    }
   ],
   "source": [
    "def find_min(nums):\n",
    "        start =0\n",
    "        end = len(nums)-1\n",
    "        \n",
    "        if nums[start] <= nums[end]:\n",
    "            return nums[start]\n",
    "        \n",
    "        while start < end:\n",
    "            mid = int((start + end) /2)\n",
    "            \n",
    "            if nums[mid] > nums[end]:\n",
    "                start = mid+1\n",
    "            else:\n",
    "                end = mid\n",
    "                \n",
    "        return nums[start]    \n",
    "    \n",
    "print(find_min([40,50,6,70,10,2,3]))    "
   ]
  },
  {
   "cell_type": "markdown",
   "id": "2bbc5070-e779-46e3-80c0-3cfe2406e1bb",
   "metadata": {},
   "source": [
    "## 31. Write a program to find the sum of all even numbers in a list.\n"
   ]
  },
  {
   "cell_type": "code",
   "execution_count": 25,
   "id": "72b41136-2470-4a19-8615-efadeecad797",
   "metadata": {},
   "outputs": [
    {
     "data": {
      "text/plain": [
       "550"
      ]
     },
     "execution_count": 25,
     "metadata": {},
     "output_type": "execute_result"
    }
   ],
   "source": [
    "def even_sum(nums):\n",
    "    sum=0\n",
    "    for i in nums:\n",
    "        if i%2 == 0:\n",
    "            sum = sum + i\n",
    "    return sum\n",
    "\n",
    "even_sum([10,20,30,40,50,60,70,80,90,100])"
   ]
  },
  {
   "cell_type": "markdown",
   "id": "bf89974f-673a-4bc1-bd00-293313d964a8",
   "metadata": {},
   "source": [
    "## 32. Implement a function to calculate the power of a number using recursion.\n"
   ]
  },
  {
   "cell_type": "code",
   "execution_count": 27,
   "id": "afeb5d02-6f83-4806-ad5c-d9566550567e",
   "metadata": {},
   "outputs": [
    {
     "data": {
      "text/plain": [
       "4"
      ]
     },
     "execution_count": 27,
     "metadata": {},
     "output_type": "execute_result"
    }
   ],
   "source": [
    "def power_a_number(base, power):\n",
    "    if power == 0:\n",
    "        return 1\n",
    "    elif power < 0:\n",
    "        return 1 / power_a_number(base, -power)\n",
    "    else:\n",
    "        return base * power_a_number(base, power - 1)\n",
    "    \n",
    "power_a_number(2,2)"
   ]
  },
  {
   "cell_type": "markdown",
   "id": "79ff6110-137a-41c6-ba1e-c72138c3b0f1",
   "metadata": {},
   "source": [
    "## 33. Write a Python program to remove duplicates from a list while preserving the order.\n"
   ]
  },
  {
   "cell_type": "code",
   "execution_count": 28,
   "id": "de065504-c81a-4110-a806-099c0b98818e",
   "metadata": {},
   "outputs": [
    {
     "data": {
      "text/plain": [
       "[1, 2, 3, 4, 5, 6, 7, 8, 9]"
      ]
     },
     "execution_count": 28,
     "metadata": {},
     "output_type": "execute_result"
    }
   ],
   "source": [
    "def remove_duplicates(lst):\n",
    "    seen = set()\n",
    "    result = []\n",
    "    for item in lst:\n",
    "        if item not in seen:\n",
    "            seen.add(item)\n",
    "            result.append(item)\n",
    "    return result\n",
    "\n",
    "list1 = [1,2,3,4,4,4,4,5,5,6,7,6,7,8,9]\n",
    "remove_duplicates(list1)"
   ]
  },
  {
   "cell_type": "markdown",
   "id": "c7a02add-654a-493d-9419-559e0beb78a2",
   "metadata": {},
   "source": [
    "## 34. Implement a function to find the longest common prefix among a list of strings.\n"
   ]
  },
  {
   "cell_type": "code",
   "execution_count": 30,
   "id": "5e47c683-2441-4370-b415-f98388b91321",
   "metadata": {},
   "outputs": [
    {
     "name": "stdout",
     "output_type": "stream",
     "text": [
      "fll\n"
     ]
    }
   ],
   "source": [
    "def longest_common_prefix(strs):\n",
    "    if not strs:\n",
    "        return \"\"\n",
    "\n",
    "    prefix = strs[0]\n",
    "    for i in range(1, len(strs)):\n",
    "        while strs[i].find(prefix) != 0:\n",
    "            prefix = prefix[:-1]\n",
    "            if not prefix:\n",
    "                return \"\"\n",
    "    \n",
    "    return prefix\n",
    "\n",
    "list1 = [\"fllow\",\"fllower\",\"fllight\",\"fllown\"]\n",
    "print(longest_common_prefix(list1))"
   ]
  },
  {
   "cell_type": "markdown",
   "id": "21d483e6-2250-4abd-a1cf-ddb643402b8c",
   "metadata": {},
   "source": [
    "## 35. Write a program to check if a given number is a perfect square.\n"
   ]
  },
  {
   "cell_type": "code",
   "execution_count": 34,
   "id": "dce1b79f-e3ce-4add-8776-b634ed79aff1",
   "metadata": {},
   "outputs": [
    {
     "data": {
      "text/plain": [
       "True"
      ]
     },
     "execution_count": 34,
     "metadata": {},
     "output_type": "execute_result"
    }
   ],
   "source": [
    "import math\n",
    " \n",
    "def isPerfectSquare(x):\n",
    " \n",
    "    if(x >= 0):\n",
    "        sr = int(math.sqrt(x))\n",
    "        return ((sr*sr) == x)\n",
    "    \n",
    "    return false\n",
    "\n",
    "isPerfectSquare(4)"
   ]
  },
  {
   "cell_type": "markdown",
   "id": "237776a6-51d9-4826-827f-f396f16c1d03",
   "metadata": {},
   "source": [
    "## 36. Implement a function to calculate the product of all elements in a list.\n"
   ]
  },
  {
   "cell_type": "code",
   "execution_count": 36,
   "id": "d9dd8f5f-1fb2-4ba8-a05e-13de2ca4ee92",
   "metadata": {},
   "outputs": [
    {
     "data": {
      "text/plain": [
       "720000"
      ]
     },
     "execution_count": 36,
     "metadata": {},
     "output_type": "execute_result"
    }
   ],
   "source": [
    "def prod(nums):\n",
    "    p = 1\n",
    "    \n",
    "    for i in nums:\n",
    "        p = p*i\n",
    "    return p    \n",
    "        \n",
    "prod([20,3,40,5,60])    "
   ]
  },
  {
   "cell_type": "markdown",
   "id": "4f256c5b-d0f2-4071-b445-59bfc11391bb",
   "metadata": {},
   "source": [
    "## 37. Write a Python program to reverse the order of words in a sentence while preserving the word order.\n"
   ]
  },
  {
   "cell_type": "code",
   "execution_count": 37,
   "id": "ec2da86b-6c9b-4ddd-b848-865b66a24401",
   "metadata": {},
   "outputs": [
    {
     "name": "stdout",
     "output_type": "stream",
     "text": [
      "Roy Ram\n"
     ]
    }
   ],
   "source": [
    "def reverse_words(sentence):\n",
    "    words = sentence.split()\n",
    "    reversed_words = \" \".join(words[::-1])\n",
    "    return reversed_words\n",
    "\n",
    "print(reverse_words(\"Ram Roy\"))"
   ]
  },
  {
   "cell_type": "markdown",
   "id": "26494d1d-21e0-4c72-875d-39f63a5bd3e2",
   "metadata": {},
   "source": [
    "## 38. Implement a function to find the missing number in a given list of consecutive numbers.\n"
   ]
  },
  {
   "cell_type": "code",
   "execution_count": 39,
   "id": "94d046c1-01d3-454f-83dc-a9ad4cd4c7ad",
   "metadata": {},
   "outputs": [
    {
     "name": "stdout",
     "output_type": "stream",
     "text": [
      "5\n"
     ]
    }
   ],
   "source": [
    "def find_missing_number(numbers):\n",
    "    n = len(numbers) + 1\n",
    "    total_sum = (n * (n + 1)) // 2\n",
    "    actual_sum = sum(numbers)\n",
    "    missing_number = total_sum - actual_sum\n",
    "    return missing_number\n",
    "\n",
    "print(find_missing_number([1,2,3,4,6,7,8,9]))"
   ]
  },
  {
   "cell_type": "markdown",
   "id": "b87fa68e-64f5-4a9e-9ee7-8e52b1dbfb96",
   "metadata": {},
   "source": [
    "## 39. Write a program to find the sum of digits of a given number.\n"
   ]
  },
  {
   "cell_type": "code",
   "execution_count": 40,
   "id": "fd1699ef-fad3-45a8-bcc4-c5f594cb741f",
   "metadata": {},
   "outputs": [
    {
     "data": {
      "text/plain": [
       "10"
      ]
     },
     "execution_count": 40,
     "metadata": {},
     "output_type": "execute_result"
    }
   ],
   "source": [
    "def sum_digit(num):\n",
    "    sum =0\n",
    "    \n",
    "    while num > 0:\n",
    "        d = num % 10\n",
    "        sum = sum + d\n",
    "        num = num//10\n",
    "    return sum\n",
    "\n",
    "sum_digit(1234)"
   ]
  },
  {
   "cell_type": "markdown",
   "id": "de113a89-09c9-4a6d-9684-fa33bee35a3d",
   "metadata": {},
   "source": [
    "## 40. Implement a function to check if a given string is a valid palindrome considering case sensitivity.\n"
   ]
  },
  {
   "cell_type": "code",
   "execution_count": 41,
   "id": "d02a4abd-17db-48cb-8d51-704b99826b39",
   "metadata": {},
   "outputs": [
    {
     "name": "stdout",
     "output_type": "stream",
     "text": [
      "False\n",
      "True\n"
     ]
    }
   ],
   "source": [
    "def palin(str):\n",
    "    s = str[::-1]\n",
    "    \n",
    "    return str==s\n",
    "\n",
    "print(palin(\"ram\"))\n",
    "print(palin(\"aaabaaa\"))"
   ]
  },
  {
   "cell_type": "markdown",
   "id": "5307b694-4107-4191-bfc5-18ba03fb870e",
   "metadata": {},
   "source": [
    "## 41. Write a Python program to find the smallest missing positive integer in a list.\n"
   ]
  },
  {
   "cell_type": "code",
   "execution_count": 2,
   "id": "7986a87f-869f-4703-8ef7-fd4719744b7c",
   "metadata": {},
   "outputs": [
    {
     "data": {
      "text/plain": [
       "4"
      ]
     },
     "execution_count": 2,
     "metadata": {},
     "output_type": "execute_result"
    }
   ],
   "source": [
    "def find_smallest_missing_positive(nums):\n",
    "    # Move all positive integers to the front of the list\n",
    "    n = len(nums)\n",
    "    i = 0\n",
    "    while i < n:\n",
    "        if 0 < nums[i] <= n and nums[nums[i] - 1] != nums[i]:\n",
    "            # Swap the current number to its correct position\n",
    "            nums[nums[i] - 1], nums[i] = nums[i], nums[nums[i] - 1]\n",
    "        else:\n",
    "            i += 1\n",
    "\n",
    "    # Find the first index where the value is not equal to the index + 1\n",
    "    for i in range(n):\n",
    "        if nums[i] != i + 1:\n",
    "            return i + 1\n",
    "\n",
    "    # If all positive integers are present, the smallest missing positive is n + 1\n",
    "    return n + 1\n",
    "\n",
    "find_smallest_missing_positive([1,2,3,5,6,7,8,9,10,11])"
   ]
  },
  {
   "cell_type": "markdown",
   "id": "b44da2fc-8753-44ae-a372-3db219b506d9",
   "metadata": {},
   "source": [
    "## 42. Implement a function to find the longest palindrome substring in a given string.\n"
   ]
  },
  {
   "cell_type": "code",
   "execution_count": 3,
   "id": "fe5bbc53-7237-4bae-9a71-2576ceebb889",
   "metadata": {},
   "outputs": [
    {
     "name": "stdout",
     "output_type": "stream",
     "text": [
      "madam\n",
      "meyem\n"
     ]
    }
   ],
   "source": [
    "def longestPalindrome(s):\n",
    "        p = ''\n",
    "        for i in range(len(s)):\n",
    "            p1 = get_palindrome(s, i, i+1)\n",
    "            p2 = get_palindrome(s, i, i)\n",
    "            p = max([p, p1, p2], key=len)\n",
    "        return p\n",
    "    \n",
    "def get_palindrome(s, l, r):\n",
    "        while l >= 0 and r < len(s) and s[l] == s[r]:\n",
    "            l -= 1\n",
    "            r += 1\n",
    "        return s[l+1:r]\n",
    "    \n",
    "print(longestPalindrome(\"abcdemadamabc\"))\n",
    "print(longestPalindrome(\"plameyemsdnnjcd\"))"
   ]
  },
  {
   "cell_type": "markdown",
   "id": "c0cb3bde-224f-4426-95ae-766ef617bd46",
   "metadata": {},
   "source": [
    "## 43. Write a program to find the number of occurrences of a given element in a list.\n"
   ]
  },
  {
   "cell_type": "code",
   "execution_count": 42,
   "id": "d3eb5b1c-1631-4e51-a810-8e0a38faeb9f",
   "metadata": {},
   "outputs": [
    {
     "name": "stdout",
     "output_type": "stream",
     "text": [
      "6\n",
      "5\n"
     ]
    }
   ],
   "source": [
    "def occurrences(nums,ele):\n",
    "    c=0\n",
    "    for i in nums:\n",
    "        if ele == i:\n",
    "            c = c+1\n",
    "    return c\n",
    "\n",
    "print(occurrences([1,2,3,4,5,4,3,2,1,2,3,4,5,6,7,6,5,4,5,4,5,4,8] , 4))\n",
    "print(occurrences([1,2,3,4,5,4,3,2,1,2,3,4,5,6,7,6,5,4,5,4,5,4,8] , 5))"
   ]
  },
  {
   "cell_type": "markdown",
   "id": "6fd114b1-4608-4d58-ba54-5884073a0868",
   "metadata": {},
   "source": [
    "## 44. Implement a function to check if a given number is a perfect number.\n"
   ]
  },
  {
   "cell_type": "code",
   "execution_count": 1,
   "id": "e3633dad-d15f-4562-9ba1-17c8fac7866c",
   "metadata": {},
   "outputs": [
    {
     "name": "stdout",
     "output_type": "stream",
     "text": [
      "True\n",
      "False\n",
      "True\n"
     ]
    }
   ],
   "source": [
    "def is_perfect_number(num):\n",
    "    if num <= 0:\n",
    "        return False\n",
    "\n",
    "    divs = []\n",
    "    for i in range(1, num):\n",
    "        if num % i == 0:\n",
    "            divs.append(i)\n",
    "\n",
    "    if sum(divs) == num:\n",
    "        return True\n",
    "    else:\n",
    "        return False\n",
    "    \n",
    "print(is_perfect_number(28))\n",
    "print(is_perfect_number(159)) \n",
    "print(is_perfect_number(496)) "
   ]
  },
  {
   "cell_type": "markdown",
   "id": "a9991c0e-a05e-4b71-85e3-2a3b4e2fafd8",
   "metadata": {},
   "source": [
    "## 45. Write a Python program to remove all duplicates from a string.\n"
   ]
  },
  {
   "cell_type": "code",
   "execution_count": 43,
   "id": "52fdb8a1-64bb-4594-8e19-c1b033bae7f1",
   "metadata": {},
   "outputs": [
    {
     "name": "stdout",
     "output_type": "stream",
     "text": [
      "abcdems\n"
     ]
    }
   ],
   "source": [
    "def remove_duplicates(string):\n",
    "    unique_chars = []\n",
    "    for char in string:\n",
    "        if char not in unique_chars:\n",
    "            unique_chars.append(char)\n",
    "    return ''.join(unique_chars)\n",
    "\n",
    "print(remove_duplicates(\"aaabbbbccccdddeeeeemmmmmsssss\"))"
   ]
  },
  {
   "cell_type": "markdown",
   "id": "57b69de6-7da4-447b-a64d-ed8d31bdf66e",
   "metadata": {},
   "source": [
    "## 46. Implement a function to find the first missing positive\n"
   ]
  },
  {
   "cell_type": "code",
   "execution_count": 4,
   "id": "66ca17fd-d80f-4ade-8c3f-26859c171e03",
   "metadata": {},
   "outputs": [
    {
     "name": "stdout",
     "output_type": "stream",
     "text": [
      "3\n"
     ]
    }
   ],
   "source": [
    "def find_first_missing_positive(nums):\n",
    "    n = len(nums)\n",
    "\n",
    "    # Step 1: Mark non-positive integers as \"n+1\"\n",
    "    for i in range(n):\n",
    "        if nums[i] <= 0:\n",
    "            nums[i] = n + 1\n",
    "\n",
    "    # Step 2: Mark the presence of positive integers within the range [1, n]\n",
    "    for i in range(n):\n",
    "        num = abs(nums[i])\n",
    "        if num <= n:\n",
    "            nums[num - 1] = -abs(nums[num - 1])\n",
    "\n",
    "    # Step 3: Find the first positive number\n",
    "    for i in range(n):\n",
    "        if nums[i] > 0:\n",
    "            return i + 1\n",
    "\n",
    "    # Step 4: If all positive numbers within the range [1, n] are present, the first missing positive is n+1\n",
    "    return n + 1\n",
    "\n",
    "print(find_first_missing_positive([1,2,4,5,6,7,8,9]))"
   ]
  },
  {
   "cell_type": "code",
   "execution_count": null,
   "id": "7339fcac-ad5e-47cd-a49c-b16ca5f760ca",
   "metadata": {},
   "outputs": [],
   "source": []
  }
 ],
 "metadata": {
  "kernelspec": {
   "display_name": "Python 3 (ipykernel)",
   "language": "python",
   "name": "python3"
  },
  "language_info": {
   "codemirror_mode": {
    "name": "ipython",
    "version": 3
   },
   "file_extension": ".py",
   "mimetype": "text/x-python",
   "name": "python",
   "nbconvert_exporter": "python",
   "pygments_lexer": "ipython3",
   "version": "3.10.8"
  }
 },
 "nbformat": 4,
 "nbformat_minor": 5
}
